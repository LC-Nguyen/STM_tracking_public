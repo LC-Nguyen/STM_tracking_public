{
 "cells": [
  {
   "cell_type": "code",
   "execution_count": null,
   "metadata": {},
   "outputs": [],
   "source": [
    "import numpy as np\n",
    "from keras.models import Model\n",
    "from keras.layers import Dense,BatchNormalization,Conv1D\n",
    "from keras.layers import Input,GlobalMaxPooling1D, GlobalAveragePooling1D, concatenate\n",
    "from keras.optimizers import Adam\n",
    "import keras.backend as K\n",
    "\n",
    "from utils import generate\n",
    "from keras.callbacks import EarlyStopping,ReduceLROnPlateau,ModelCheckpoint,CSVLogger\n",
    "import datetime\n",
    "from keras.callbacks import History\n",
    "import matplotlib.pyplot as plt\n",
    "import pickle\n",
    "from keras.models import load_model\n",
    "\n",
    "from keras.applications.xception import preprocess_input"
   ]
  },
  {
   "cell_type": "code",
   "execution_count": null,
   "metadata": {},
   "outputs": [],
   "source": [
    "model = load_model('models/30_new_model.h5')"
   ]
  },
  {
   "cell_type": "code",
   "execution_count": null,
   "metadata": {},
   "outputs": [],
   "source": [
    "model.summary()"
   ]
  },
  {
   "cell_type": "code",
   "execution_count": null,
   "metadata": {},
   "outputs": [],
   "source": [
    "def make_gradcam_heatmap(track, model, last_conv_layer_name, pred_index=None):\n",
    "    # First, we create a model that maps the input image to the activations\n",
    "    # of the last conv layer as well as the output predictions\n",
    "#     print(model.get_layer(last_conv_layer_name).output)\n",
    "#     print(model.output)\n",
    "#     print(model.input)\n",
    "# #     deep_inputs = tf.keras.Input(tensor=(inputs))\n",
    "#     print(tf.convert_to_tensor(track))\n",
    "    grad_model = Model(\n",
    "        [model.input], [model.get_layer(last_conv_layer_name).output, model.output]\n",
    "    )\n",
    "    \n",
    "    # Then, we compute the gradient of the top predicted class for our input image\n",
    "    # with respect to the activations of the last conv layer\n",
    "#     with tf.GradientTape() as tape:\n",
    "    last_conv_layer_output, preds = grad_model(tf.cast(tf.convert_to_tensor(track), tf.float32))\n",
    "    if pred_index is None:\n",
    "        pred_index = tf.argmax(preds[0])\n",
    "    class_channel = preds[:, pred_index]\n",
    "    \n",
    "#     print(K.eval(class_channel))\n",
    "    # This is the gradient of the output neuron (top predicted or chosen)\n",
    "    # with regard to the output feature map of the last conv layer\n",
    "    grads = tf.gradients(class_channel, last_conv_layer_output)\n",
    "    \n",
    "#     print(K.eval(grads[0]))\n",
    "    # This is a vector where each entry is the mean intensity of the gradient\n",
    "    # over a specific feature map channel\n",
    "    pooled_grads = tf.reduce_mean(grads, axis=(0, 1, 2))\n",
    "\n",
    "    # We multiply each channel in the feature map array\n",
    "    # by \"how important this channel is\" with regard to the top predicted class\n",
    "    # then sum all the channels to obtain the heatmap class activation\n",
    "    last_conv_layer_output = last_conv_layer_output[0]\n",
    "    heatmap = last_conv_layer_output @ pooled_grads[..., tf.newaxis]\n",
    "    heatmap = tf.squeeze(heatmap)\n",
    "\n",
    "    # For visualization purpose, we will also normalize the heatmap between 0 & 1\n",
    "    heatmap = tf.maximum(heatmap, 0) / tf.math.reduce_max(heatmap)\n",
    "    return heatmap"
   ]
  },
  {
   "cell_type": "code",
   "execution_count": null,
   "metadata": {},
   "outputs": [],
   "source": [
    "# Prepare track\n",
    "# preprocess_input = keras.applications.xception.preprocess_input\n",
    "track =np.loadtxt(\"em18tracks.txt\")[1]\n",
    "track = preprocess_input(track[None,:, None])\n",
    "\n",
    "print(track)\n",
    "# Remove last layer's softmax\n",
    "model.layers[-1].activation = None\n",
    "\n",
    "# # Print what the top predicted class is\n",
    "index_to_type = {0: \"fbm\", 1: \"brownian\", 2: \"ctrw\"}\n",
    "\n",
    "preds = model.predict(track)\n",
    "print(preds)\n",
    "print(\"Predicted:\", index_to_type[np.argmax(preds)])\n",
    "\n",
    "# # Generate class activation heatmap\n",
    "heatmap = make_gradcam_heatmap(track, model, \"conv1d_50\")\n",
    "\n",
    "arr = K.eval(heatmap)\n",
    "# # Display heatmap\n",
    "# plt.matshow(heatmap)\n",
    "plt.show()"
   ]
  },
  {
   "cell_type": "code",
   "execution_count": null,
   "metadata": {},
   "outputs": [],
   "source": [
    "def _plot_score(vec, xticks):\n",
    "    _axis_fontsize=8\n",
    "    fig=plt.figure(figsize = (20,10))\n",
    "    plt.yticks([])\n",
    "#     float_formatter = \"{:.3f}\".format\n",
    "#     np.set_printoptions(formatter={'float_kind':float_formatter})\n",
    "#     print(xticks)\n",
    "    plt.xticks(range(0,len(vec)), xticks, fontsize=_axis_fontsize)\n",
    "    fig.add_subplot(1, 1, 1)\n",
    "    plt.figtext(x=0.13, y=0.54, s = \"Hi\",fontsize=5, fontname='sans-serif')\n",
    "    img = plt.imshow([vec], vmin=0, vmax=1)\n",
    "    plt.show()"
   ]
  },
  {
   "cell_type": "code",
   "execution_count": null,
   "metadata": {},
   "outputs": [],
   "source": [
    "_plot_score(arr, np.around(track.flatten(), decimals=3))"
   ]
  },
  {
   "cell_type": "code",
   "execution_count": null,
   "metadata": {},
   "outputs": [],
   "source": [
    "print(arr)"
   ]
  },
  {
   "cell_type": "code",
   "execution_count": null,
   "metadata": {},
   "outputs": [],
   "source": [
    "print(track.flatten())"
   ]
  },
  {
   "cell_type": "code",
   "execution_count": null,
   "metadata": {},
   "outputs": [],
   "source": []
  }
 ],
 "metadata": {
  "kernelspec": {
   "display_name": "Python 3",
   "language": "python",
   "name": "python3"
  },
  "language_info": {
   "codemirror_mode": {
    "name": "ipython",
    "version": 3
   },
   "file_extension": ".py",
   "mimetype": "text/x-python",
   "name": "python",
   "nbconvert_exporter": "python",
   "pygments_lexer": "ipython3",
   "version": "3.6.6"
  }
 },
 "nbformat": 4,
 "nbformat_minor": 4
}
