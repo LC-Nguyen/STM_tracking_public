{
 "cells": [
  {
   "cell_type": "code",
   "execution_count": null,
   "metadata": {},
   "outputs": [],
   "source": [
    "import matplotlib.pyplot as plt\n",
    "import pickle\n",
    "import glob\n",
    "import os\n",
    "import numpy as np"
   ]
  },
  {
   "cell_type": "code",
   "execution_count": null,
   "metadata": {},
   "outputs": [],
   "source": [
    "plt.figure()\n",
    "plt.xlabel(\"track length\")\n",
    "plt.ylabel(\"validation accuracy\")\n",
    "plt.title(\"Training steps vs max validation accuracy\")\n",
    "folders = [\"added_layers\",\"maxpoolingthreedense\", \"avgpoolingthreedense\", \"maxpoolingtwodense\"]\n",
    "for folder in folders:\n",
    "    sizes = []\n",
    "    max_val_acc = []\n",
    "    dir_path = os.getcwd() + \"/\" + folder\n",
    "    print(dir_path)\n",
    "    matching_files = glob.glob( dir_path +\"\\*_history*\")\n",
    "\n",
    "    for file in matching_files:\n",
    "        with open(file, 'rb') as handle:\n",
    "            history = pickle.loads(handle.read())\n",
    "            train_loss = history['loss']\n",
    "            val_loss   = history['val_loss']\n",
    "            train_acc  = history['acc']\n",
    "            val_acc    = history['val_acc']\n",
    "\n",
    "            max_val_acc.append(np.mean(sorted(val_acc, reverse=True)[:5]))\n",
    "        string = [s for s in file if s.isdigit()]\n",
    "        actualstring = \"\"\n",
    "        for s in string:\n",
    "            actualstring += s\n",
    "        sizes.append(int(actualstring))\n",
    "    zipped = zip(sizes, max_val_acc)\n",
    "    sorted_pairs = sorted(zipped)\n",
    "    sizes = [sorted_pairs[i][0] for i in range(len(sorted_pairs))]\n",
    "    max_val_acc = [sorted_pairs[i][1] for i in range(len(sorted_pairs))]\n",
    "    print(sorted_pairs)\n",
    "    print(sizes)\n",
    "    print(max_val_acc)\n",
    "    if folder == \"added_layers\":\n",
    "        folder = \"avgpoolfivedense\"\n",
    "    plt.plot(sizes, max_val_acc, label=folder)\n",
    "    plt.legend()\n",
    "\n"
   ]
  },
  {
   "cell_type": "code",
   "execution_count": null,
   "metadata": {},
   "outputs": [],
   "source": []
  }
 ],
 "metadata": {
  "kernelspec": {
   "display_name": "Python 3",
   "language": "python",
   "name": "python3"
  },
  "language_info": {
   "codemirror_mode": {
    "name": "ipython",
    "version": 3
   },
   "file_extension": ".py",
   "mimetype": "text/x-python",
   "name": "python",
   "nbconvert_exporter": "python",
   "pygments_lexer": "ipython3",
   "version": "3.7.6"
  }
 },
 "nbformat": 4,
 "nbformat_minor": 4
}
