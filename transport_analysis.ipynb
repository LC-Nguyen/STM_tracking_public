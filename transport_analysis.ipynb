{
 "cells": [
  {
   "cell_type": "markdown",
   "id": "0",
   "metadata": {},
   "source": [
    "### This is an old notebook\n",
    "\n",
    "It was for reading some other data files that is taken during STM. \n",
    "I don't have these files anymore and we haven't use this analysis in a while, but I'll leave it here in case somebody needs it in the future."
   ]
  },
  {
   "cell_type": "code",
   "execution_count": null,
   "id": "1",
   "metadata": {},
   "outputs": [],
   "source": [
    "%reload_ext autoreload\n",
    "%autoreload 2\n",
    "import phasecheck as pc\n",
    "import sxmreader as sxm\n",
    "import trackpy as tp\n",
    "import matplotlib.pyplot as plt\n",
    "from PIL import Image\n",
    "from sxmreader import SXMReader\n",
    "import numpy as np\n",
    "import pandas as pd\n",
    "from scipy.signal import find_peaks\n",
    "from phasecheck import get_cffits\n",
    "from matplotlib.colors import Normalize\n",
    "from matplotlib.colorbar import ColorbarBase"
   ]
  },
  {
   "cell_type": "code",
   "execution_count": null,
   "id": "2",
   "metadata": {},
   "outputs": [],
   "source": [
    "\n",
    "size=50e-7*50e-7\n",
    "densities=[]\n",
    "img_ds=[]\n",
    "paths=[]\n",
    "_kwargs={\n",
    "    'diameter':5,\n",
    "    'maxsize':200,\n",
    "    'minmass':1,\n",
    "    'separation':1}\n",
    "for i in range(616,641):\n",
    "\n",
    "    path=[f'electromigration_13/Image_{i}.sxm']\n",
    "    paths.append(path)\n",
    "    img_d=pc.imgdata(path,filetype='SXM',**_kwargs)\n",
    "    densities.append(img_d.data.shape[0]/size)\n",
    "    img_ds.append(img_d)\n",
    "gates=np.linspace(60,-60,25)\n",
    "plt.plot(gates,densities)\n",
    "plt.xlabel('Gate (V)')\n",
    "plt.ylabel('Density (cm^-2)')"
   ]
  },
  {
   "cell_type": "code",
   "execution_count": null,
   "id": "3",
   "metadata": {},
   "outputs": [],
   "source": [
    "dfs=[]\n",
    "for i in range(15,40):\n",
    "    df = pd.read_csv(f'electromigration_13/GBN_237_transport_{i:03d}.dat',delimiter='\\t',header=7)\n",
    "    dfs.append(df)"
   ]
  },
  {
   "cell_type": "code",
   "execution_count": null,
   "id": "4",
   "metadata": {},
   "outputs": [],
   "source": [
    "for i in range(15,40):\n",
    "    print(f'electromigration_13/GBN_237_transport_{i:03d}.dat')"
   ]
  },
  {
   "cell_type": "code",
   "execution_count": null,
   "id": "5",
   "metadata": {},
   "outputs": [],
   "source": [
    "\n",
    "fig=plt.figure()\n",
    "plt.plot((dfs[-1]['Gate (V)']),((dfs[-1]['LI Y (V)']))\n",
    "        ,linestyle='--',label=\"Zero Coverage\",color='black')\n",
    "plt.plot((dfs[11]['Gate (V)']),((dfs[11]['LI Y (V)']))\n",
    "        ,label=\"$V_G$ = 5V Coverage \",linewidth=3,marker=None,color='blue')\n",
    "plt.xlabel('Gate Voltage (V)',fontsize=20)\n",
    "plt.minorticks_on()\n",
    "plt.tick_params(axis='both', which='major', labelsize=15,length=8)\n",
    "plt.tick_params(axis='both', which='minor',length=5)\n",
    "plt.ylabel('dI/dV (arb. units)',fontsize=20)\n",
    "plt.legend(fontsize=13)\n",
    "plt.tight_layout()\n"
   ]
  },
  {
   "cell_type": "code",
   "execution_count": null,
   "id": "6",
   "metadata": {},
   "outputs": [],
   "source": [
    "gates"
   ]
  },
  {
   "cell_type": "code",
   "execution_count": null,
   "id": "7",
   "metadata": {},
   "outputs": [],
   "source": [
    "norm(60)"
   ]
  },
  {
   "cell_type": "code",
   "execution_count": null,
   "id": "8",
   "metadata": {},
   "outputs": [],
   "source": [
    "norm = Normalize(vmin=-60, vmax=60)  # Normalize the color bar to the range of y values\n"
   ]
  },
  {
   "cell_type": "code",
   "execution_count": null,
   "id": "9",
   "metadata": {},
   "outputs": [],
   "source": [
    "plt.cm.get_cmap(\"YlOrRd\")\n",
    "cmap=plt.cm.get_cmap(\"YlOrRd\")\n",
    "colors = cmap(np.linspace(0,1,25))\n",
    "norm = Normalize(vmin=60, vmax=-60)  # Normalize the color bar to the range of y values\n",
    "fig=plt.figure()\n",
    "for i in range(25):\n",
    "    plt.xlabel('Gate (V)')\n",
    "    plt.ylabel('LIX (V)')\n",
    "    plt.scatter(dfs[i]['Gate (V)'],dfs[i]['LI X (V)'],color=colors[i],alpha=0.5,s=5,\n",
    "               label=f'{gates[i]} V')\n",
    "cbar = ColorbarBase(\n",
    "    ax=fig.add_axes([1, 0.1, 0.03, 0.8]),\n",
    "    cmap=cmap, orientation='vertical',norm=norm)\n",
    "#cbar.ax.invert_yaxis()\n",
    "fig=plt.figure()\n",
    "for i in range(25):\n",
    "    plt.xlabel('Gate (V)')\n",
    "    plt.ylabel('LIY (V)')\n",
    "    plt.scatter(dfs[i]['Gate (V)'],dfs[i]['LI Y (V)'],color=colors[i],alpha=0.5,s=5,\n",
    "               label=f'{gates[i]} V')\n",
    "cbar = ColorbarBase(\n",
    "    ax=fig.add_axes([1, 0.1, 0.03, 0.8]),\n",
    "    cmap=plt.get_cmap(cmap), orientation='vertical',)\n",
    "fig=plt.figure()\n",
    "for i in range(25):\n",
    "    plt.xlabel('Gate (V)')\n",
    "    plt.ylabel('LI (V)')\n",
    "    plt.scatter(dfs[i]['Gate (V)'],(dfs[i]['LI Y (V)']**2+dfs[i]['LI X (V)']**2)**0.5,color=colors[i],alpha=0.5,s=5,\n",
    "               label=f'{gates[i]} V')\n",
    "cbar = ColorbarBase(\n",
    "    ax=fig.add_axes([1, 0.1, 0.03, 0.8]),\n",
    "    cmap=plt.get_cmap(cmap), orientation='vertical',)\n"
   ]
  },
  {
   "cell_type": "code",
   "execution_count": null,
   "id": "10",
   "metadata": {},
   "outputs": [],
   "source": [
    "i=13\n",
    "plt.title(f'Applied Gate= {gates[i]} V')\n",
    "plt.xlabel('Gate (V)')\n",
    "plt.ylabel('LI (V)')\n",
    "plt.scatter(dfs[i]['Gate (V)'],dfs[i]['LI X (V)'],label='LIX')\n",
    "plt.scatter(dfs[i]['Gate (V)'],dfs[i]['LI Y (V)'],label='LIY')\n",
    "plt.scatter(dfs[i]['Gate (V)'],\n",
    "            (dfs[i]['LI Y (V)']**2+dfs[i]['LI Y (V)']**2)**0.5,label='Magnitude')\n",
    "\n",
    "plt.legend()"
   ]
  },
  {
   "cell_type": "code",
   "execution_count": null,
   "id": "11",
   "metadata": {},
   "outputs": [],
   "source": [
    "LIX=[]\n",
    "LIY=[]\n",
    "for i in range(25):\n",
    "    df=dfs[i]\n",
    "    LIX.append([df[df['Gate (V)']==-5.1]['LI X (V)'],\n",
    "              df[df['Gate (V)']==0]['LI X (V)'],\n",
    "              df[df['Gate (V)']==5.1]['LI X (V)']])\n",
    "    LIY.append([df[df['Gate (V)']==-5.1]['LI Y (V)'],\n",
    "              df[df['Gate (V)']==0]['LI Y (V)'],\n",
    "              df[df['Gate (V)']==5.1]['LI Y (V)']])\n",
    "LIX=np.array(LIX)\n",
    "LIY=np.array(LIY)\n",
    "names=['Gs','Density','LIX-5','LIX0','LIX5','LIY-5','LIY0','LIY5']\n",
    "lists=[gates, densities,LIX[:,0,0],LIX[:,1,0],LIX[:,2,0],LIY[:,0,0],LIY[:,1,0],LIY[:,2,0]]\n",
    "_data = {name: lst for name, lst in zip(names,\n",
    "                                       lists)}\n",
    "data=pd.DataFrame(_data)\n",
    "Gms=['-5','0','5']\n",
    "for i in range(3):\n",
    "    plt.figure()\n",
    "    plt.title('LIX at '+Gms[i]+'V vs Density')\n",
    "    plt.xlabel('Density(cm^-2)')\n",
    "    plt.ylabel('LIX (V)')\n",
    "    plt.plot(data['Density'],data['LIX'+Gms[i]],markersize=10,marker='o',linestyle='--')\n",
    "    plt.figure()\n",
    "    plt.title('LIY at '+Gms[i]+'V vs Density')\n",
    "    plt.xlabel('Density(cm^-2)')\n",
    "    plt.ylabel('LIY (V)')\n",
    "    plt.plot(data['Density'],data['LIY'+Gms[i]],markersize=10,marker='o',linestyle='--')\n",
    "    plt.figure()\n",
    "    plt.title('LI Magnitude at '+Gms[i]+'V vs Density')\n",
    "    plt.xlabel('Density(cm^-2)')\n",
    "    plt.ylabel('LI Magnitude (V)')\n",
    "    plt.plot(data['Density'],(data['LIY'+Gms[i]]**2+data['LIX'+Gms[i]]**2)**0.5,markersize=10,marker='o',linestyle='--')\n",
    "    plt.title(\"Density vs Gate\")\n",
    "plt.xlabel('Gate (V)')\n",
    "plt.ylabel('Density (cm^-2)')\n",
    "plt.scatter(data['Gs'],data['Density'])"
   ]
  }
 ],
 "metadata": {
  "kernelspec": {
   "display_name": "elmloc_test2_kernel",
   "language": "python",
   "name": "elmloc_test2_kernel"
  },
  "language_info": {
   "codemirror_mode": {
    "name": "ipython",
    "version": 3
   },
   "file_extension": ".py",
   "mimetype": "text/x-python",
   "name": "python",
   "nbconvert_exporter": "python",
   "pygments_lexer": "ipython3",
   "version": "3.10.18"
  }
 },
 "nbformat": 4,
 "nbformat_minor": 5
}
