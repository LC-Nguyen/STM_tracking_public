{
 "cells": [
  {
   "cell_type": "markdown",
   "id": "0",
   "metadata": {},
   "source": [
    "## This Notebook Goes over the phase analysis functions"
   ]
  },
  {
   "cell_type": "code",
   "execution_count": null,
   "id": "1",
   "metadata": {},
   "outputs": [],
   "source": [
    "%reload_ext autoreload\n",
    "%autoreload 2\n",
    "import phasecheck as pc\n",
    "import sxmreader as sxm\n",
    "import trackpy as tp\n",
    "import matplotlib.pyplot as plt\n",
    "from PIL import Image\n",
    "from sxmreader import SXMReader\n",
    "import numpy as np\n",
    "import pandas as pd\n",
    "from scipy.signal import find_peaks\n",
    "from phasecheck import get_cffits"
   ]
  },
  {
   "cell_type": "markdown",
   "id": "2",
   "metadata": {},
   "source": [
    "### The next two cells are quick checks to see if data can load correctly"
   ]
  },
  {
   "cell_type": "code",
   "execution_count": null,
   "id": "3",
   "metadata": {},
   "outputs": [],
   "source": [
    "#Getting data with SXM\n",
    "\n",
    "path=['test_images/rehexaticphase/Image_233.sxm']\n",
    "img = SXMReader(path, correct='lines')[0]\n",
    "_kwargs={\n",
    "    'diameter':5,\n",
    "    'maxsize':200,\n",
    "    'minmass':1,\n",
    "    'separation':1,}\n",
    "fs = tp.locate(img,**_kwargs,engine='python') #gets data\n",
    "tp.annotate(fs,img) #plots image with the red circles\n"
   ]
  },
  {
   "cell_type": "code",
   "execution_count": null,
   "id": "4",
   "metadata": {},
   "outputs": [],
   "source": [
    "#Getting data with jpg/png\n",
    "path=['test_images/Image_924 Image Z (m).jpg']\n",
    "_kwargs={\n",
    "    'diameter':5,\n",
    "    'maxsize':200,\n",
    "    'minmass':1,\n",
    "    'separation':2,}\n",
    "img = Image.open(path[0])\n",
    "#This part just to get img readable for trackpy\n",
    "img = img.resize((200,200),)\n",
    "img=img.convert('L')\n",
    "img.ndim=2\n",
    "img.shape=img.size\n",
    "\n",
    "fs=tp.locate(img,**_kwargs).reset_index()\n",
    "tp.annotate(fs,img)\n"
   ]
  },
  {
   "cell_type": "markdown",
   "id": "5",
   "metadata": {},
   "source": [
    "### Unified into a class called imgdata from phasecheck.py"
   ]
  },
  {
   "cell_type": "code",
   "execution_count": null,
   "id": "6",
   "metadata": {},
   "outputs": [],
   "source": [
    "#The two cells above are esentially done when initializing a \n",
    "#phasecheck.imgdata instance\n",
    "\n",
    "_kwargs={\n",
    "    'diameter':5,\n",
    "    'maxsize':300,\n",
    "    'minmass':2,\n",
    "    'separation':1,\n",
    "    \n",
    "    }\n",
    "\n",
    "path=['test_images/rehexaticphase/Image_723.sxm']\n",
    "img_d=pc.imgdata(path,filetype='SXM',**_kwargs)\n",
    "plt.imshow(img_d.img)\n",
    "plt.show()\n",
    "tp.annotate(img_d.data,img_d.img)\n",
    "\n"
   ]
  },
  {
   "cell_type": "markdown",
   "id": "7",
   "metadata": {},
   "source": [
    "### Useful functions"
   ]
  },
  {
   "cell_type": "code",
   "execution_count": null,
   "id": "8",
   "metadata": {},
   "outputs": [],
   "source": [
    "#SXM files have scan dimensions in meters\n",
    "xdim=SXMReader(path).scans[0].size['real']['x']*100 \n",
    "ydim=SXMReader(path).scans[0].size['real']['y']*100\n",
    "\n",
    "density=img_d.data.shape[0]/(xdim*ydim) #calculate density\n",
    "print(f'density={density:E}')"
   ]
  },
  {
   "cell_type": "code",
   "execution_count": null,
   "id": "9",
   "metadata": {},
   "outputs": [],
   "source": [
    "#plots Voronoi diagram, kind=0 for nearest neighbor\n",
    "pc.plot_boops(img_d,kind=0,realdim=True,) \n"
   ]
  },
  {
   "cell_type": "code",
   "execution_count": null,
   "id": "10",
   "metadata": {},
   "outputs": [],
   "source": [
    "\n",
    "#kind=1 for orientation\n",
    "pc.plot_boops(img_d,kind=1,realdim=True,) \n"
   ]
  },
  {
   "cell_type": "code",
   "execution_count": null,
   "id": "11",
   "metadata": {},
   "outputs": [],
   "source": [
    "#orientational order \n",
    "#start and dist choose starting point and distance between peaks,\n",
    "#fit_id=None for best fit, 0,1,2 to choose what curve\n",
    "#periodic chooses if we want the image to have a periodic boundary: generally should be false\n",
    "pc.plot_bocf(img_d,start=1,fit_id=None,realdim=True,p_dist=5,yscale_plot='log',periodic=False,)\n"
   ]
  },
  {
   "cell_type": "code",
   "execution_count": null,
   "id": "12",
   "metadata": {},
   "outputs": [],
   "source": [
    "#translational order \n",
    "#Translational order requires a reciprocal vector G. This is chosen by finding a peak in the diffraction pattern, marked with an x.\n",
    "pc.plot_tocf(img_d,realdim=True)"
   ]
  },
  {
   "cell_type": "code",
   "execution_count": null,
   "id": "13",
   "metadata": {},
   "outputs": [],
   "source": [
    "\n",
    "\n",
    "\n",
    "\n",
    "\n",
    "\n",
    "\n",
    "#pc.plot_rdf(img_d,start=1,fit_id=None)\n",
    "\n",
    "\n",
    "#structure factor\n",
    "pc.plot_ssf2(img_d,upper=0.8,lower=0.001,grid_size=512,dpi=400,realdim=True,)\n"
   ]
  }
 ],
 "metadata": {
  "kernelspec": {
   "display_name": "elmloc_test2_kernel",
   "language": "python",
   "name": "elmloc_test2_kernel"
  },
  "language_info": {
   "codemirror_mode": {
    "name": "ipython",
    "version": 3
   },
   "file_extension": ".py",
   "mimetype": "text/x-python",
   "name": "python",
   "nbconvert_exporter": "python",
   "pygments_lexer": "ipython3",
   "version": "3.10.18"
  }
 },
 "nbformat": 4,
 "nbformat_minor": 5
}
