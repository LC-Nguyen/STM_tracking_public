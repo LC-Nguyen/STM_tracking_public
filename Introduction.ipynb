{
 "cells": [
  {
   "cell_type": "markdown",
   "id": "0",
   "metadata": {},
   "source": [
    "# **This is a brief introduction to the basics of how the codes works. You don't need to know all this to use the notebooks, but it is useful if you want to add or adjust anything to the code.**\n"
   ]
  },
  {
   "cell_type": "markdown",
   "id": "1",
   "metadata": {},
   "source": [
    "## Run the following cell to import all the libraries"
   ]
  },
  {
   "cell_type": "code",
   "execution_count": null,
   "id": "2",
   "metadata": {},
   "outputs": [],
   "source": [
    "%reload_ext autoreload\n",
    "%autoreload 2\n",
    "from analysis_stm import MotionAnalyzer,ExpMetaData, DiffusionPlotter\n",
    "import numpy as np\n",
    "from scipy.optimize import curve_fit\n",
    "import trackpy as tp\n",
    "from PIL import Image\n",
    "import matplotlib.pyplot as plt\n",
    "from sxmreader import SXMReader\n",
    "import matplotlib as mpl\n",
    "import scipy\n",
    "from sxmreader import SXMReader\n",
    "from PIL import Image\n",
    "from matplotlib.ticker import MultipleLocator\n",
    "from matplotlib.animation import FuncAnimation, PillowWriter\n",
    "import ipywidgets as widgets \n",
    "import matplotlib.animation\n",
    "import matplotlib.pyplot as plt\n",
    "import numpy as np\n",
    "import frame_correct as fc\n",
    "import pims\n",
    "import os\n",
    "import yaml\n",
    "import matplotlib as mpl"
   ]
  },
  {
   "cell_type": "markdown",
   "id": "3",
   "metadata": {},
   "source": [
    "## The following cell records the name of the folder with our SXM files and the files we want. "
   ]
  },
  {
   "cell_type": "code",
   "execution_count": null,
   "id": "4",
   "metadata": {},
   "outputs": [],
   "source": [
    "folder_name = './test_sets/15K_3'\n",
    "fileranges=range(6,35)\n",
    "SXM_PATH = [folder_name + \"/Image_{0:03}.sxm\".format(i) for i in fileranges] \n",
    "for i in SXM_PATH:\n",
    "    print(i)"
   ]
  },
  {
   "cell_type": "markdown",
   "id": "5",
   "metadata": {},
   "source": [
    "## We then use the function SXMReader to read the files from the path. This function takes in a list of paths and outputs a sequence of frames."
   ]
  },
  {
   "cell_type": "code",
   "execution_count": null,
   "id": "6",
   "metadata": {},
   "outputs": [],
   "source": [
    "frames=SXMReader(SXM_PATH)\n",
    "plt.imshow(frames[0]) #plots the first frame\n",
    "plt.show()"
   ]
  },
  {
   "cell_type": "markdown",
   "id": "7",
   "metadata": {},
   "source": [
    "## SXMReader has multiple options to correct our image, but we mainly use 'lines' which subtracts linear fits from each row. "
   ]
  },
  {
   "cell_type": "code",
   "execution_count": null,
   "id": "8",
   "metadata": {},
   "outputs": [],
   "source": [
    "frames=SXMReader(SXM_PATH,correct='lines') #Uses lines correction\n",
    "plt.imshow(frames[0])\n",
    "plt.show()"
   ]
  },
  {
   "cell_type": "markdown",
   "id": "9",
   "metadata": {},
   "source": [
    "## Sometimes our data has tears in it due to some issue during the image taking. We correct those by averaging the nearest lines."
   ]
  },
  {
   "cell_type": "code",
   "execution_count": null,
   "id": "10",
   "metadata": {},
   "outputs": [],
   "source": [
    "frames=SXMReader(SXM_PATH,correct='lines')\n",
    "fig,ax=plt.subplots()\n",
    "plt.title('Frame 2 Before Correction')\n",
    "ax.xaxis.set_minor_locator(mpl.ticker.MultipleLocator(1))\n",
    "ax.yaxis.set_major_locator(mpl.ticker.MultipleLocator(5))\n",
    "ax.yaxis.set_minor_locator(mpl.ticker.MultipleLocator(1)) \n",
    "ax.imshow(frames[2]) # frame with a tear \n",
    "correction=[2,107] #tear row\n",
    "frame_new=np.array(frames[correction[0]])\n",
    "frame_new[correction[1],:]=(frame_new[correction[1]+1,:]+frame_new[correction[1]-1,:])/2 #mean of adjacent frames\n",
    "frame_new = (frame_new - frame_new.min()) / (frame_new.max() - frame_new.min())  # scale to [0, 1]\n",
    "frame_new = frame_new * 2 - 1    \n",
    "frame_new = pims.Frame(frame_new, frame_no=correction[0])\n",
    "frames[correction[0]]=frame_new\n",
    "fig,ax=plt.subplots()\n",
    "plt.title('Frame 2 After Correction')\n",
    "\n",
    "plt.imshow(frames[2])\n",
    "plt.show()"
   ]
  },
  {
   "cell_type": "markdown",
   "id": "11",
   "metadata": {},
   "source": [
    "## We then want to correct for any movements of the scan area. The first option requires a visible background like a moire (or potentially not using lines correction, but this is not well tested). \n",
    "\n",
    "The functions in frame_correct.py are for this purpose. Run the next two cells to see how this correction looks. It might take some time depending on your computer (it's not that well optimized). The second option is just subtracting ensemble particle drift. This works even when you are on monolayer with a flat background, but is not as accurate."
   ]
  },
  {
   "cell_type": "code",
   "execution_count": null,
   "id": "12",
   "metadata": {},
   "outputs": [],
   "source": [
    "import frame_correct as fc\n",
    "from collections import namedtuple\n",
    "\n",
    "#These are parameters for trackpy to do molecule search \n",
    "params = {\n",
    "    'molecule_size': 7,\n",
    "    'min_mass': 2.1,\n",
    "    'max_mass': 100,\n",
    "    'min_size': 1,\n",
    "    'max_ecc': 1,\n",
    "    'separation': 1,\n",
    "    'search_range': 30,\n",
    "    'adaptive_stop': 1,\n",
    "    'diffusion_time': 10,\n",
    "    'threshold': 0.12,\n",
    "}\n",
    "\n",
    "# This stuff is just to get the formatting consistent with how the function uses it\n",
    "Params = namedtuple(\n",
    "                'Params', \n",
    "                ['molecule_size', \n",
    "                    'min_mass',\n",
    "                    'max_mass',\n",
    "                    'separation',\n",
    "                    'min_size',\n",
    "                    'max_ecc',\n",
    "                    'adaptive_stop',\n",
    "                    'search_range',\n",
    "                    'threshold',\n",
    "                    'diffusion_time',])\n",
    "PARAMS = Params(**params)\n",
    "from types import SimpleNamespace\n",
    "par=SimpleNamespace(**params)\n",
    "frame_drift_par={\n",
    "                   'steps':2,\n",
    "                   'adjust':[[],[]],\n",
    "                   'output_crop':200,                      \n",
    "}\n",
    "frames_ = SXMReader(SXM_PATH, correct='lines')\n",
    "frames_all=[]\n",
    "frames=[]\n",
    "for frame in frames_:\n",
    "    frames.append(frame)\n",
    "frames_=frames\n",
    "correction=[2,107]\n",
    "img=np.array(frames_[correction[0]])\n",
    "img[correction[1],:]= (img[correction[1]+1,:]+img[correction[1]-1,:])/2\n",
    "img = (img - img.min()) / (img.max() - img.min())  # scale to [0, 1]\n",
    "img = img * 2 - 1    \n",
    "img = pims.Frame(img, frame_no=correction[0])\n",
    "frames_[correction[0]]=img\n",
    "plt.show()\n",
    "frames_corrected=fc.Frame_correct_loop(frames_[0:],PARAMS,**frame_drift_par)"
   ]
  },
  {
   "cell_type": "code",
   "execution_count": null,
   "id": "13",
   "metadata": {},
   "outputs": [],
   "source": [
    "\n",
    "plt.rcParams[\"animation.html\"] = \"jshtml\"\n",
    "plt.rcParams['figure.dpi'] = 150  \n",
    "plt.ioff()\n",
    "fig=plt.figure(figsize=(8, 6), dpi=120)\n",
    "ax1=plt.axes(xlim=(0, 256), ylim=(0, 256), frameon=False)\n",
    "plt.axis('off')\n",
    "ln, = ax1.plot([], [], lw=3)\n",
    "#ax1.set_prop_cycle(color=['g'])\n",
    "def animate(i):\n",
    "    plt.cla()\n",
    "    plt.title(i)\n",
    "    ax1.set_prop_cycle(color=['g', 'r', 'c', 'm', 'y', 'k'])\n",
    "    plt.imshow(frames_corrected[i], cmap='gray',zorder=0)\n",
    "\n",
    "# Set up formatting for the movie files\n",
    "#Writer = matplotlib.animation.writers['ffmpeg']\n",
    "#writer = Writer(fps=5, metadata=dict(artist='Me'), bitrate=1800)\n",
    "line_ani = matplotlib.animation.FuncAnimation(fig, animate, frames=len(frames_corrected))\n",
    "#line_ani.save('18K_manual.mp4', writer=writer)\n",
    "line_ani"
   ]
  },
  {
   "cell_type": "markdown",
   "id": "14",
   "metadata": {
    "jp-MarkdownHeadingCollapsed": true
   },
   "source": [
    "You might notice some slight (or major) shifts that are not corrected. Ideally, changing the various parameters \n",
    "can help fix this. "
   ]
  },
  {
   "cell_type": "markdown",
   "id": "15",
   "metadata": {},
   "source": [
    "## We then use trackpy to extract particle data from these images.\n",
    "We added rotation tracking as well, which is why we use a custom trackpy from my github rather than just the normal one. Below are the most useful trackpy functions"
   ]
  },
  {
   "cell_type": "code",
   "execution_count": null,
   "id": "16",
   "metadata": {},
   "outputs": [],
   "source": [
    "f=tp.locate(frames_[0], #inputs an image array and search parameters, returns a a dataframe with position, size, angle of molecules in pixels\n",
    "          diameter=params['molecule_size'],\n",
    "          minmass= params['min_mass'],\n",
    "          separation= params['separation'],\n",
    "          threshold= params['threshold'])\n"
   ]
  },
  {
   "cell_type": "code",
   "execution_count": null,
   "id": "17",
   "metadata": {},
   "outputs": [],
   "source": [
    "t=tp.batch(frames_, #same as trackpy.locate but for multiple frames\n",
    "          diameter=params['molecule_size'],\n",
    "          minmass= params['min_mass'],\n",
    "          separation= params['separation'],\n",
    "          threshold= params['threshold'])\n",
    "tp.link(t, #tracks particles between multiple frames using data from tp.batch\n",
    "        search_range=params['search_range'],\n",
    "       adaptive_stop=params['adaptive_stop'])"
   ]
  },
  {
   "cell_type": "code",
   "execution_count": null,
   "id": "18",
   "metadata": {},
   "outputs": [],
   "source": [
    "tp.annotate(f,frames_[0]) #Visualizes the paticles selected with tp.locate"
   ]
  },
  {
   "cell_type": "markdown",
   "id": "19",
   "metadata": {},
   "source": [
    "## The code we use is stored in analysis_stm.py, which does the following:\n",
    "\n",
    "1. uses sxmreader to convert sxm files to readable format\n",
    "2. optionally uses frame_correct to stabilize image\n",
    "3. uses trackpy to extract particle positions\n",
    "4. performs calculations for properties such as diffusion constant"
   ]
  }
 ],
 "metadata": {
  "kernelspec": {
   "display_name": "elmloc_test2_kernel",
   "language": "python",
   "name": "elmloc_test2_kernel"
  },
  "language_info": {
   "codemirror_mode": {
    "name": "ipython",
    "version": 3
   },
   "file_extension": ".py",
   "mimetype": "text/x-python",
   "name": "python",
   "nbconvert_exporter": "python",
   "pygments_lexer": "ipython3",
   "version": "3.10.18"
  }
 },
 "nbformat": 4,
 "nbformat_minor": 5
}
